{
 "cells": [
  {
   "cell_type": "code",
   "execution_count": 1,
   "metadata": {},
   "outputs": [
    {
     "name": "stdout",
     "output_type": "stream",
     "text": [
      "WARNING:tensorflow:From <ipython-input-1-f5138cd908f4>:5: read_data_sets (from tensorflow.contrib.learn.python.learn.datasets.mnist) is deprecated and will be removed in a future version.\n",
      "Instructions for updating:\n",
      "Please use alternatives such as official/mnist/dataset.py from tensorflow/models.\n",
      "WARNING:tensorflow:From D:\\app\\Anaconda\\lib\\site-packages\\tensorflow\\contrib\\learn\\python\\learn\\datasets\\mnist.py:260: maybe_download (from tensorflow.contrib.learn.python.learn.datasets.base) is deprecated and will be removed in a future version.\n",
      "Instructions for updating:\n",
      "Please write your own downloading logic.\n",
      "WARNING:tensorflow:From D:\\app\\Anaconda\\lib\\site-packages\\tensorflow\\contrib\\learn\\python\\learn\\datasets\\mnist.py:262: extract_images (from tensorflow.contrib.learn.python.learn.datasets.mnist) is deprecated and will be removed in a future version.\n",
      "Instructions for updating:\n",
      "Please use tf.data to implement this functionality.\n",
      "Extracting MNIST_data\\train-images-idx3-ubyte.gz\n",
      "WARNING:tensorflow:From D:\\app\\Anaconda\\lib\\site-packages\\tensorflow\\contrib\\learn\\python\\learn\\datasets\\mnist.py:267: extract_labels (from tensorflow.contrib.learn.python.learn.datasets.mnist) is deprecated and will be removed in a future version.\n",
      "Instructions for updating:\n",
      "Please use tf.data to implement this functionality.\n",
      "Extracting MNIST_data\\train-labels-idx1-ubyte.gz\n",
      "WARNING:tensorflow:From D:\\app\\Anaconda\\lib\\site-packages\\tensorflow\\contrib\\learn\\python\\learn\\datasets\\mnist.py:110: dense_to_one_hot (from tensorflow.contrib.learn.python.learn.datasets.mnist) is deprecated and will be removed in a future version.\n",
      "Instructions for updating:\n",
      "Please use tf.one_hot on tensors.\n",
      "Extracting MNIST_data\\t10k-images-idx3-ubyte.gz\n",
      "Extracting MNIST_data\\t10k-labels-idx1-ubyte.gz\n",
      "WARNING:tensorflow:From D:\\app\\Anaconda\\lib\\site-packages\\tensorflow\\contrib\\learn\\python\\learn\\datasets\\mnist.py:290: DataSet.__init__ (from tensorflow.contrib.learn.python.learn.datasets.mnist) is deprecated and will be removed in a future version.\n",
      "Instructions for updating:\n",
      "Please use alternatives such as official/mnist/dataset.py from tensorflow/models.\n"
     ]
    }
   ],
   "source": [
    "import tensorflow as tf\n",
    "from tensorflow.examples.tutorials.mnist import input_data\n",
    "\n",
    "# 载入数据\n",
    "mnist = input_data.read_data_sets('MNIST_data', one_hot=True)  #oen_hot把标签转化为只有0和1的形式\n"
   ]
  },
  {
   "cell_type": "code",
   "execution_count": 5,
   "metadata": {},
   "outputs": [
    {
     "name": "stdout",
     "output_type": "stream",
     "text": [
      "Iter 0 Testing Accuracy: 0.8325\n",
      "Iter 1 Testing Accuracy: 0.8703\n",
      "Iter 2 Testing Accuracy: 0.8809\n",
      "Iter 3 Testing Accuracy: 0.8879\n",
      "Iter 4 Testing Accuracy: 0.8948\n",
      "Iter 5 Testing Accuracy: 0.8976\n",
      "Iter 6 Testing Accuracy: 0.8989\n",
      "Iter 7 Testing Accuracy: 0.9018\n",
      "Iter 8 Testing Accuracy: 0.9034\n",
      "Iter 9 Testing Accuracy: 0.9053\n",
      "Iter 10 Testing Accuracy: 0.9064\n",
      "Iter 11 Testing Accuracy: 0.9066\n",
      "Iter 12 Testing Accuracy: 0.9084\n",
      "Iter 13 Testing Accuracy: 0.9097\n",
      "Iter 14 Testing Accuracy: 0.9097\n",
      "Iter 15 Testing Accuracy: 0.911\n",
      "Iter 16 Testing Accuracy: 0.912\n",
      "Iter 17 Testing Accuracy: 0.9121\n",
      "Iter 18 Testing Accuracy: 0.9132\n",
      "Iter 19 Testing Accuracy: 0.913\n",
      "Iter 20 Testing Accuracy: 0.9148\n"
     ]
    }
   ],
   "source": [
    "#每个批次的大小\n",
    "batch_size = 100 #一次放入一百张的图片\n",
    "n_batch = mnist.train.num_examples // batch_size\n",
    "#定义两个placeholder\n",
    "x = tf.placeholder(tf.float32, [None,784])\n",
    "y = tf.placeholder(tf.float32, [None, 10])  #标签\n",
    "\n",
    "#创建一个简单的神经网络，这里没有隐藏层也没有激活函数\n",
    "W = tf.Variable(tf.zeros([784,10]))\n",
    "b = tf.Variable(tf.zeros([10]))\n",
    "prediction = tf.nn.softmax(tf.matmul(x,W)+b)  #softmax将输出值转化为概率值\n",
    "\n",
    "#定义二次代价函数\n",
    "loss = tf.reduce_mean(tf.square(y-prediction))\n",
    "#使用梯度下降算法\n",
    "train_step = tf.train.GradientDescentOptimizer(0.2).minimize(loss)  #0.2位learning rate\n",
    "\n",
    "#初始化变量\n",
    "init = tf.global_variables_initializer()\n",
    "\n",
    "# 得到一个布尔型列表，存放结果是否正确\n",
    "correct_prediction = tf.equal(tf.argmax(y,1), tf.argmax(prediction,1)) #argmax 返回一维张量中最大值索引\n",
    "\n",
    "# 求准确率\n",
    "accuracy = tf.reduce_mean(tf.cast(correct_prediction,tf.float32)) # tf.cast把布尔值转换为浮点型求平均数\n",
    "\n",
    "with tf.Session() as sess:\n",
    "    sess.run(init)\n",
    "    for epoch in range(21):\n",
    "        for batch in range(n_batch):\n",
    "            # 获得批次数据\n",
    "            batch_xs, batch_ys = mnist.train.next_batch(batch_size)\n",
    "            sess.run(train_step, feed_dict={x:batch_xs, y:batch_ys})\n",
    "        #测试准确率\n",
    "        acc = sess.run(accuracy, feed_dict={x:mnist.test.images,y:mnist.test.labels})\n",
    "        print(\"Iter \" + str(epoch) + \" Testing Accuracy: \" + str(acc))\n"
   ]
  },
  {
   "cell_type": "markdown",
   "metadata": {},
   "source": [
    "### 加上loss函数（交叉熵）"
   ]
  },
  {
   "cell_type": "code",
   "execution_count": 5,
   "metadata": {},
   "outputs": [
    {
     "name": "stdout",
     "output_type": "stream",
     "text": [
      "Iter 0 Testing Accuracy: 0.8451\n",
      "Iter 1 Testing Accuracy: 0.8948\n",
      "Iter 2 Testing Accuracy: 0.9025\n",
      "Iter 3 Testing Accuracy: 0.9056\n",
      "Iter 4 Testing Accuracy: 0.9078\n",
      "Iter 5 Testing Accuracy: 0.9106\n",
      "Iter 6 Testing Accuracy: 0.9115\n",
      "Iter 7 Testing Accuracy: 0.9134\n",
      "Iter 8 Testing Accuracy: 0.9161\n",
      "Iter 9 Testing Accuracy: 0.9163\n",
      "Iter 10 Testing Accuracy: 0.9174\n",
      "Iter 11 Testing Accuracy: 0.9188\n",
      "Iter 12 Testing Accuracy: 0.9183\n",
      "Iter 13 Testing Accuracy: 0.9186\n",
      "Iter 14 Testing Accuracy: 0.92\n",
      "Iter 15 Testing Accuracy: 0.9201\n",
      "Iter 16 Testing Accuracy: 0.9205\n",
      "Iter 17 Testing Accuracy: 0.9221\n",
      "Iter 18 Testing Accuracy: 0.9209\n",
      "Iter 19 Testing Accuracy: 0.9217\n",
      "Iter 20 Testing Accuracy: 0.9221\n"
     ]
    }
   ],
   "source": [
    "#每个批次的大小\n",
    "batch_size = 100 #一次放入一百张的图片\n",
    "n_batch = mnist.train.num_examples // batch_size\n",
    "#定义两个placeholder\n",
    "x = tf.placeholder(tf.float32, [None,784])\n",
    "y = tf.placeholder(tf.float32, [None, 10])  #标签\n",
    "\n",
    "#创建一个简单的神经网络，这里没有隐藏层也没有激活函数\n",
    "W = tf.Variable(tf.zeros([784,10]))\n",
    "b = tf.Variable(tf.zeros([10]))\n",
    "prediction = tf.nn.softmax(tf.matmul(x,W)+b)  #softmax将输出值转化为概率值\n",
    "\n",
    "#定义二次代价函数\n",
    "#loss = tf.reduce_mean(tf.square(y-prediction))\n",
    "loss = tf.reduce_mean(tf.nn.softmax_cross_entropy_with_logits(labels=y,logits=prediction))\n",
    "#使用梯度下降算法\n",
    "train_step = tf.train.GradientDescentOptimizer(0.2).minimize(loss)  #0.2位learning rate\n",
    "\n",
    "#初始化变量\n",
    "init = tf.global_variables_initializer()\n",
    "\n",
    "# 得到一个布尔型列表，存放结果是否正确\n",
    "correct_prediction = tf.equal(tf.argmax(y,1), tf.argmax(prediction,1)) #argmax 返回一维张量中最大值索引\n",
    "\n",
    "# 求准确率\n",
    "accuracy = tf.reduce_mean(tf.cast(correct_prediction,tf.float32)) # tf.cast把布尔值转换为浮点型求平均数\n",
    "\n",
    "with tf.Session() as sess:\n",
    "    sess.run(init)\n",
    "    for epoch in range(21):\n",
    "        for batch in range(n_batch):\n",
    "            # 获得批次数据\n",
    "            batch_xs, batch_ys = mnist.train.next_batch(batch_size)\n",
    "            sess.run(train_step, feed_dict={x:batch_xs, y:batch_ys})\n",
    "        #测试准确率\n",
    "        acc = sess.run(accuracy, feed_dict={x:mnist.test.images,y:mnist.test.labels})\n",
    "        print(\"Iter \" + str(epoch) + \" Testing Accuracy: \" + str(acc))\n"
   ]
  },
  {
   "cell_type": "code",
   "execution_count": null,
   "metadata": {},
   "outputs": [],
   "source": []
  }
 ],
 "metadata": {
  "kernelspec": {
   "display_name": "Python 3",
   "language": "python",
   "name": "python3"
  },
  "language_info": {
   "codemirror_mode": {
    "name": "ipython",
    "version": 3
   },
   "file_extension": ".py",
   "mimetype": "text/x-python",
   "name": "python",
   "nbconvert_exporter": "python",
   "pygments_lexer": "ipython3",
   "version": "3.7.4"
  }
 },
 "nbformat": 4,
 "nbformat_minor": 2
}
