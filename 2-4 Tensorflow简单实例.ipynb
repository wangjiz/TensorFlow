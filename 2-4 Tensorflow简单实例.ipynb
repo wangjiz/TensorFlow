{
 "cells": [
  {
   "cell_type": "code",
   "execution_count": 2,
   "metadata": {},
   "outputs": [],
   "source": [
    "import tensorflow as tf\n",
    "import numpy as np"
   ]
  },
  {
   "cell_type": "code",
   "execution_count": 9,
   "metadata": {},
   "outputs": [
    {
     "name": "stdout",
     "output_type": "stream",
     "text": [
      "0\n",
      "[0.05520458, 0.100445904]\n",
      "\n",
      "\n",
      "20\n",
      "[0.104252934, 0.19764909]\n",
      "\n",
      "\n",
      "40\n",
      "[0.102307454, 0.19872454]\n",
      "\n",
      "\n",
      "60\n",
      "[0.101251915, 0.199308]\n",
      "\n",
      "\n",
      "80\n",
      "[0.10067923, 0.19962454]\n",
      "\n",
      "\n",
      "100\n",
      "[0.10036851, 0.1997963]\n",
      "\n",
      "\n",
      "120\n",
      "[0.10019993, 0.19988948]\n",
      "\n",
      "\n",
      "140\n",
      "[0.10010848, 0.19994004]\n",
      "\n",
      "\n",
      "160\n",
      "[0.100058846, 0.19996747]\n",
      "\n",
      "\n",
      "180\n",
      "[0.10003193, 0.19998236]\n",
      "\n",
      "\n",
      "200\n",
      "[0.10001733, 0.19999042]\n",
      "\n",
      "\n"
     ]
    }
   ],
   "source": [
    "# 使用numpy生成100个随机点\n",
    "x_data = np.random.rand(100)\n",
    "y_data = x_data*0.1 + 0.2\n",
    "\n",
    "# 构造线性模型\n",
    "b = tf.Variable(0.)\n",
    "k = tf.Variable(0.)\n",
    "y= k*x_data + b\n",
    "\n",
    "\n",
    "#二次代价函数\n",
    "loss = tf.reduce_mean(tf.square(y_data - y))\n",
    "#定义一个梯度下降法来进行训练的优化器\n",
    "\n",
    "optimizer = tf.train.GradientDescentOptimizer(0.2)\n",
    "#最小化代价函数\n",
    "train = optimizer.minimize(loss)\n",
    "\n",
    "init =tf.global_variables_initializer()\n",
    "\n",
    "with tf.Session() as sess:\n",
    "    sess.run(init)\n",
    "    for step in range(201):\n",
    "        sess.run(train)\n",
    "        if step%20 == 0:\n",
    "            print(step)\n",
    "            print(sess.run([k,b]))\n",
    "            print('\\n')"
   ]
  },
  {
   "cell_type": "code",
   "execution_count": null,
   "metadata": {},
   "outputs": [],
   "source": []
  }
 ],
 "metadata": {
  "kernelspec": {
   "display_name": "Python 3",
   "language": "python",
   "name": "python3"
  },
  "language_info": {
   "codemirror_mode": {
    "name": "ipython",
    "version": 3
   },
   "file_extension": ".py",
   "mimetype": "text/x-python",
   "name": "python",
   "nbconvert_exporter": "python",
   "pygments_lexer": "ipython3",
   "version": "3.7.4"
  }
 },
 "nbformat": 4,
 "nbformat_minor": 2
}
